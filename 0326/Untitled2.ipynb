{
 "cells": [
  {
   "cell_type": "markdown",
   "metadata": {},
   "source": [
    "## HW3"
   ]
  },
  {
   "cell_type": "code",
   "execution_count": 28,
   "metadata": {},
   "outputs": [],
   "source": [
    "a ='pig'\n",
    "def print_global():\n",
    "    print('全域變數',a)"
   ]
  },
  {
   "cell_type": "code",
   "execution_count": 29,
   "metadata": {},
   "outputs": [
    {
     "name": "stdout",
     "output_type": "stream",
     "text": [
      "全域變數 pig\n"
     ]
    }
   ],
   "source": [
    "print_global()"
   ]
  },
  {
   "cell_type": "code",
   "execution_count": 30,
   "metadata": {},
   "outputs": [],
   "source": [
    "a ='pig'"
   ]
  },
  {
   "cell_type": "code",
   "execution_count": 31,
   "metadata": {},
   "outputs": [],
   "source": [
    "def change_local():\n",
    "    a = 'dog'\n",
    "    print(a)"
   ]
  },
  {
   "cell_type": "code",
   "execution_count": 32,
   "metadata": {},
   "outputs": [
    {
     "name": "stdout",
     "output_type": "stream",
     "text": [
      "dog\n"
     ]
    }
   ],
   "source": [
    "change_local()"
   ]
  },
  {
   "cell_type": "code",
   "execution_count": 33,
   "metadata": {},
   "outputs": [],
   "source": [
    "def change_local():\n",
    "    a = 'dog'\n",
    "    print('最高等級:',a,id(a))"
   ]
  },
  {
   "cell_type": "code",
   "execution_count": 34,
   "metadata": {},
   "outputs": [
    {
     "name": "stdout",
     "output_type": "stream",
     "text": [
      "最高等級: dog 137889184\n"
     ]
    }
   ],
   "source": [
    "change_local()"
   ]
  },
  {
   "cell_type": "code",
   "execution_count": 35,
   "metadata": {},
   "outputs": [
    {
     "data": {
      "text/plain": [
       "'pig'"
      ]
     },
     "execution_count": 35,
     "metadata": {},
     "output_type": "execute_result"
    }
   ],
   "source": [
    "a"
   ]
  },
  {
   "cell_type": "code",
   "execution_count": 36,
   "metadata": {},
   "outputs": [
    {
     "data": {
      "text/plain": [
       "99918208"
      ]
     },
     "execution_count": 36,
     "metadata": {},
     "output_type": "execute_result"
    }
   ],
   "source": [
    "id(a)"
   ]
  },
  {
   "cell_type": "code",
   "execution_count": 37,
   "metadata": {},
   "outputs": [],
   "source": [
    "animal = '狗'\n",
    "def change_and_print_global():\n",
    "    animal = '貓'\n",
    "    print('動物:',animal)"
   ]
  },
  {
   "cell_type": "code",
   "execution_count": 38,
   "metadata": {},
   "outputs": [
    {
     "data": {
      "text/plain": [
       "'狗'"
      ]
     },
     "execution_count": 38,
     "metadata": {},
     "output_type": "execute_result"
    }
   ],
   "source": [
    "animal"
   ]
  },
  {
   "cell_type": "code",
   "execution_count": 39,
   "metadata": {},
   "outputs": [
    {
     "name": "stdout",
     "output_type": "stream",
     "text": [
      "動物: 貓\n"
     ]
    }
   ],
   "source": [
    "change_and_print_global()"
   ]
  },
  {
   "cell_type": "code",
   "execution_count": 40,
   "metadata": {},
   "outputs": [],
   "source": [
    "animal = '狗'\n",
    "def change_and_print_global():\n",
    "    global animal\n",
    "    animal = '貓'\n",
    "    print('動物:',animal)"
   ]
  },
  {
   "cell_type": "code",
   "execution_count": 41,
   "metadata": {},
   "outputs": [
    {
     "data": {
      "text/plain": [
       "'狗'"
      ]
     },
     "execution_count": 41,
     "metadata": {},
     "output_type": "execute_result"
    }
   ],
   "source": [
    "animal"
   ]
  },
  {
   "cell_type": "code",
   "execution_count": 42,
   "metadata": {},
   "outputs": [
    {
     "name": "stdout",
     "output_type": "stream",
     "text": [
      "動物: 貓\n"
     ]
    }
   ],
   "source": [
    "change_and_print_global()"
   ]
  },
  {
   "cell_type": "code",
   "execution_count": 43,
   "metadata": {},
   "outputs": [
    {
     "data": {
      "text/plain": [
       "'貓'"
      ]
     },
     "execution_count": 43,
     "metadata": {},
     "output_type": "execute_result"
    }
   ],
   "source": [
    "animal"
   ]
  },
  {
   "cell_type": "code",
   "execution_count": 44,
   "metadata": {},
   "outputs": [],
   "source": [
    "animal = '狗'\n",
    "def change_local():\n",
    "    animal = '貓'\n",
    "    print('區域變數:',locals())"
   ]
  },
  {
   "cell_type": "code",
   "execution_count": 45,
   "metadata": {},
   "outputs": [
    {
     "name": "stdout",
     "output_type": "stream",
     "text": [
      "區域變數: {'animal': '貓'}\n"
     ]
    }
   ],
   "source": [
    "change_local()"
   ]
  },
  {
   "cell_type": "code",
   "execution_count": 46,
   "metadata": {},
   "outputs": [
    {
     "name": "stdout",
     "output_type": "stream",
     "text": [
      "廣域變數 {'__name__': '__main__', '__doc__': 'Automatically created module for IPython interactive environment', '__package__': None, '__loader__': None, '__spec__': None, '__builtin__': <module 'builtins' (built-in)>, '__builtins__': <module 'builtins' (built-in)>, '_ih': ['', 'num = list(map(int, input().split()))', 'num = list(map(int, input().split()))', 'num = list(map(int, input().split()))', 'num = list(map(int, input().split()))', 'list(map(lambda i: i+100, num))', 'def edit_story(words, func):\\n    print(func(words))\\n\\nA= input(\"輸入數字\")\\nedit_story(A, lambda words:\\nA + \\'100\\')', 'list(map(lambda x : x+100 , input()))', \"def document_it(func):\\n    def new_function(*args,**kwargs):\\n        print('執⾏函式',func.__name__)\\n        print('參數位置',args)\\n        print('關鍵字參數',kwargs)\\n        result = func(*args, **kwargs)\\n        print('結果:',result)\\n        return result\\n    return new_function\", 'def add_ints(a, b):\\n    return a+b', 'add_ints(3,5)', '@document_it\\ndef add_ints(a, b):\\n    return a+b', 'add_ints(3,5)', \"def square_it(func):\\n    def new_function(*args, **kwargs):\\n        result = func(*args, **kwargs)\\n        print('New結果:',result)\\n        return result * result\\n    return new_function\", '@document_it\\n@square_it\\ndef add_ints(a, b):\\n    return a+b', 'add_ints(3,5)', '@square_it\\ndef add_ints(a, b):\\n    return a+b', 'add_ints(3,5)', \"def multi_int(func):\\n    def new_function(args, kwargs):\\n        result = func(args, kwargs)\\n        print('加起來的結果:',result)\\n        return args * kwargs\\n    return new_function\", \"def change_local():\\n    a = 'dog'\\n    print('最高等級:',a,id(animal))\", 'change_local()', 'change_local()\\n最⾼高等級: dog 4344261464', 'change_local()', \"def change_local():\\n    a = 'dog'\\n    print('最高等級:',a,id(a))\", 'change_local()', 'animal', 'animal()', 'a', \"a ='pig'\\ndef print_global():\\n    print('全域變數',a)\", 'print_global()', \"a ='pig'\", \"def change_local():\\n    a = 'dog'\\n    print(a)\", 'change_local()', \"def change_local():\\n    a = 'dog'\\n    print('最高等級:',a,id(a))\", 'change_local()', 'a', 'id(a)', \"animal = '狗'\\ndef change_and_print_global():\\n    animal = '貓'\\n    print('動物:',animal)\", 'animal', 'change_and_print_global()', \"animal = '狗'\\ndef change_and_print_global():\\n    global animal\\n    animal = '貓'\\n    print('動物:',animal)\", 'animal', 'change_and_print_global()', 'animal', \"animal = '狗'\\ndef change_local():\\n    animal = '貓'\\n    print('區域變數:',locals())\", 'change_local()', \"print('廣域變數', globals())\"], '_oh': {5: [101, 102, 103], 10: 8, 12: 8, 15: 64, 17: 64, 35: 'pig', 36: 99918208, 38: '狗', 41: '狗', 43: '貓'}, '_dh': ['C:\\\\Users\\\\user\\\\Documents\\\\ipynb\\\\0326'], 'In': ['', 'num = list(map(int, input().split()))', 'num = list(map(int, input().split()))', 'num = list(map(int, input().split()))', 'num = list(map(int, input().split()))', 'list(map(lambda i: i+100, num))', 'def edit_story(words, func):\\n    print(func(words))\\n\\nA= input(\"輸入數字\")\\nedit_story(A, lambda words:\\nA + \\'100\\')', 'list(map(lambda x : x+100 , input()))', \"def document_it(func):\\n    def new_function(*args,**kwargs):\\n        print('執⾏函式',func.__name__)\\n        print('參數位置',args)\\n        print('關鍵字參數',kwargs)\\n        result = func(*args, **kwargs)\\n        print('結果:',result)\\n        return result\\n    return new_function\", 'def add_ints(a, b):\\n    return a+b', 'add_ints(3,5)', '@document_it\\ndef add_ints(a, b):\\n    return a+b', 'add_ints(3,5)', \"def square_it(func):\\n    def new_function(*args, **kwargs):\\n        result = func(*args, **kwargs)\\n        print('New結果:',result)\\n        return result * result\\n    return new_function\", '@document_it\\n@square_it\\ndef add_ints(a, b):\\n    return a+b', 'add_ints(3,5)', '@square_it\\ndef add_ints(a, b):\\n    return a+b', 'add_ints(3,5)', \"def multi_int(func):\\n    def new_function(args, kwargs):\\n        result = func(args, kwargs)\\n        print('加起來的結果:',result)\\n        return args * kwargs\\n    return new_function\", \"def change_local():\\n    a = 'dog'\\n    print('最高等級:',a,id(animal))\", 'change_local()', 'change_local()\\n最⾼高等級: dog 4344261464', 'change_local()', \"def change_local():\\n    a = 'dog'\\n    print('最高等級:',a,id(a))\", 'change_local()', 'animal', 'animal()', 'a', \"a ='pig'\\ndef print_global():\\n    print('全域變數',a)\", 'print_global()', \"a ='pig'\", \"def change_local():\\n    a = 'dog'\\n    print(a)\", 'change_local()', \"def change_local():\\n    a = 'dog'\\n    print('最高等級:',a,id(a))\", 'change_local()', 'a', 'id(a)', \"animal = '狗'\\ndef change_and_print_global():\\n    animal = '貓'\\n    print('動物:',animal)\", 'animal', 'change_and_print_global()', \"animal = '狗'\\ndef change_and_print_global():\\n    global animal\\n    animal = '貓'\\n    print('動物:',animal)\", 'animal', 'change_and_print_global()', 'animal', \"animal = '狗'\\ndef change_local():\\n    animal = '貓'\\n    print('區域變數:',locals())\", 'change_local()', \"print('廣域變數', globals())\"], 'Out': {5: [101, 102, 103], 10: 8, 12: 8, 15: 64, 17: 64, 35: 'pig', 36: 99918208, 38: '狗', 41: '狗', 43: '貓'}, 'get_ipython': <bound method InteractiveShell.get_ipython of <ipykernel.zmqshell.ZMQInteractiveShell object at 0x0716C870>>, 'exit': <IPython.core.autocall.ZMQExitAutocall object at 0x0812A110>, 'quit': <IPython.core.autocall.ZMQExitAutocall object at 0x0812A110>, '_': '貓', '__': '狗', '___': '狗', '_i': 'change_local()', '_ii': \"animal = '狗'\\ndef change_local():\\n    animal = '貓'\\n    print('區域變數:',locals())\", '_iii': 'animal', '_i1': 'num = list(map(int, input().split()))', '_i2': 'num = list(map(int, input().split()))', '_i3': 'num = list(map(int, input().split()))', '_i4': 'num = list(map(int, input().split()))', 'num': [1, 2, 3], '_i5': 'list(map(lambda i: i+100, num))', '_5': [101, 102, 103], '_i6': 'def edit_story(words, func):\\n    print(func(words))\\n\\nA= input(\"輸入數字\")\\nedit_story(A, lambda words:\\nA + \\'100\\')', 'edit_story': <function edit_story at 0x0326D540>, 'A': '88', '_i7': 'list(map(lambda x : x+100 , input()))', '_i8': \"def document_it(func):\\n    def new_function(*args,**kwargs):\\n        print('執⾏函式',func.__name__)\\n        print('參數位置',args)\\n        print('關鍵字參數',kwargs)\\n        result = func(*args, **kwargs)\\n        print('結果:',result)\\n        return result\\n    return new_function\", 'document_it': <function document_it at 0x0326DAE0>, '_i9': 'def add_ints(a, b):\\n    return a+b', 'add_ints': <function square_it.<locals>.new_function at 0x0326DED0>, '_i10': 'add_ints(3,5)', '_10': 8, '_i11': '@document_it\\ndef add_ints(a, b):\\n    return a+b', '_i12': 'add_ints(3,5)', '_12': 8, '_i13': \"def square_it(func):\\n    def new_function(*args, **kwargs):\\n        result = func(*args, **kwargs)\\n        print('New結果:',result)\\n        return result * result\\n    return new_function\", 'square_it': <function square_it at 0x0326DD20>, '_i14': '@document_it\\n@square_it\\ndef add_ints(a, b):\\n    return a+b', '_i15': 'add_ints(3,5)', '_15': 64, '_i16': '@square_it\\ndef add_ints(a, b):\\n    return a+b', '_i17': 'add_ints(3,5)', '_17': 64, '_i18': \"def multi_int(func):\\n    def new_function(args, kwargs):\\n        result = func(args, kwargs)\\n        print('加起來的結果:',result)\\n        return args * kwargs\\n    return new_function\", 'multi_int': <function multi_int at 0x032D81E0>, '_i19': \"def change_local():\\n    a = 'dog'\\n    print('最高等級:',a,id(animal))\", 'change_local': <function change_local at 0x032D8660>, '_i20': 'change_local()', '_i21': 'change_local()\\n最⾼高等級: dog 4344261464', '_i22': 'change_local()', '_i23': \"def change_local():\\n    a = 'dog'\\n    print('最高等級:',a,id(a))\", '_i24': 'change_local()', '_i25': 'animal', '_i26': 'animal()', '_i27': 'a', '_i28': \"a ='pig'\\ndef print_global():\\n    print('全域變數',a)\", 'a': 'pig', 'print_global': <function print_global at 0x0326DB28>, '_i29': 'print_global()', '_i30': \"a ='pig'\", '_i31': \"def change_local():\\n    a = 'dog'\\n    print(a)\", '_i32': 'change_local()', '_i33': \"def change_local():\\n    a = 'dog'\\n    print('最高等級:',a,id(a))\", '_i34': 'change_local()', '_i35': 'a', '_35': 'pig', '_i36': 'id(a)', '_36': 99918208, '_i37': \"animal = '狗'\\ndef change_and_print_global():\\n    animal = '貓'\\n    print('動物:',animal)\", 'animal': '狗', 'change_and_print_global': <function change_and_print_global at 0x032D82B8>, '_i38': 'animal', '_38': '狗', '_i39': 'change_and_print_global()', '_i40': \"animal = '狗'\\ndef change_and_print_global():\\n    global animal\\n    animal = '貓'\\n    print('動物:',animal)\", '_i41': 'animal', '_41': '狗', '_i42': 'change_and_print_global()', '_i43': 'animal', '_43': '貓', '_i44': \"animal = '狗'\\ndef change_local():\\n    animal = '貓'\\n    print('區域變數:',locals())\", '_i45': 'change_local()', '_i46': \"print('廣域變數', globals())\"}\n"
     ]
    }
   ],
   "source": [
    "print('廣域變數', globals())"
   ]
  },
  {
   "cell_type": "code",
   "execution_count": 47,
   "metadata": {},
   "outputs": [],
   "source": [
    "del animal"
   ]
  },
  {
   "cell_type": "code",
   "execution_count": 48,
   "metadata": {},
   "outputs": [
    {
     "name": "stdout",
     "output_type": "stream",
     "text": [
      "廣域變數 {'__name__': '__main__', '__doc__': 'Automatically created module for IPython interactive environment', '__package__': None, '__loader__': None, '__spec__': None, '__builtin__': <module 'builtins' (built-in)>, '__builtins__': <module 'builtins' (built-in)>, '_ih': ['', 'num = list(map(int, input().split()))', 'num = list(map(int, input().split()))', 'num = list(map(int, input().split()))', 'num = list(map(int, input().split()))', 'list(map(lambda i: i+100, num))', 'def edit_story(words, func):\\n    print(func(words))\\n\\nA= input(\"輸入數字\")\\nedit_story(A, lambda words:\\nA + \\'100\\')', 'list(map(lambda x : x+100 , input()))', \"def document_it(func):\\n    def new_function(*args,**kwargs):\\n        print('執⾏函式',func.__name__)\\n        print('參數位置',args)\\n        print('關鍵字參數',kwargs)\\n        result = func(*args, **kwargs)\\n        print('結果:',result)\\n        return result\\n    return new_function\", 'def add_ints(a, b):\\n    return a+b', 'add_ints(3,5)', '@document_it\\ndef add_ints(a, b):\\n    return a+b', 'add_ints(3,5)', \"def square_it(func):\\n    def new_function(*args, **kwargs):\\n        result = func(*args, **kwargs)\\n        print('New結果:',result)\\n        return result * result\\n    return new_function\", '@document_it\\n@square_it\\ndef add_ints(a, b):\\n    return a+b', 'add_ints(3,5)', '@square_it\\ndef add_ints(a, b):\\n    return a+b', 'add_ints(3,5)', \"def multi_int(func):\\n    def new_function(args, kwargs):\\n        result = func(args, kwargs)\\n        print('加起來的結果:',result)\\n        return args * kwargs\\n    return new_function\", \"def change_local():\\n    a = 'dog'\\n    print('最高等級:',a,id(animal))\", 'change_local()', 'change_local()\\n最⾼高等級: dog 4344261464', 'change_local()', \"def change_local():\\n    a = 'dog'\\n    print('最高等級:',a,id(a))\", 'change_local()', 'animal', 'animal()', 'a', \"a ='pig'\\ndef print_global():\\n    print('全域變數',a)\", 'print_global()', \"a ='pig'\", \"def change_local():\\n    a = 'dog'\\n    print(a)\", 'change_local()', \"def change_local():\\n    a = 'dog'\\n    print('最高等級:',a,id(a))\", 'change_local()', 'a', 'id(a)', \"animal = '狗'\\ndef change_and_print_global():\\n    animal = '貓'\\n    print('動物:',animal)\", 'animal', 'change_and_print_global()', \"animal = '狗'\\ndef change_and_print_global():\\n    global animal\\n    animal = '貓'\\n    print('動物:',animal)\", 'animal', 'change_and_print_global()', 'animal', \"animal = '狗'\\ndef change_local():\\n    animal = '貓'\\n    print('區域變數:',locals())\", 'change_local()', \"print('廣域變數', globals())\", 'del animal', \"print('廣域變數', globals())\"], '_oh': {5: [101, 102, 103], 10: 8, 12: 8, 15: 64, 17: 64, 35: 'pig', 36: 99918208, 38: '狗', 41: '狗', 43: '貓'}, '_dh': ['C:\\\\Users\\\\user\\\\Documents\\\\ipynb\\\\0326'], 'In': ['', 'num = list(map(int, input().split()))', 'num = list(map(int, input().split()))', 'num = list(map(int, input().split()))', 'num = list(map(int, input().split()))', 'list(map(lambda i: i+100, num))', 'def edit_story(words, func):\\n    print(func(words))\\n\\nA= input(\"輸入數字\")\\nedit_story(A, lambda words:\\nA + \\'100\\')', 'list(map(lambda x : x+100 , input()))', \"def document_it(func):\\n    def new_function(*args,**kwargs):\\n        print('執⾏函式',func.__name__)\\n        print('參數位置',args)\\n        print('關鍵字參數',kwargs)\\n        result = func(*args, **kwargs)\\n        print('結果:',result)\\n        return result\\n    return new_function\", 'def add_ints(a, b):\\n    return a+b', 'add_ints(3,5)', '@document_it\\ndef add_ints(a, b):\\n    return a+b', 'add_ints(3,5)', \"def square_it(func):\\n    def new_function(*args, **kwargs):\\n        result = func(*args, **kwargs)\\n        print('New結果:',result)\\n        return result * result\\n    return new_function\", '@document_it\\n@square_it\\ndef add_ints(a, b):\\n    return a+b', 'add_ints(3,5)', '@square_it\\ndef add_ints(a, b):\\n    return a+b', 'add_ints(3,5)', \"def multi_int(func):\\n    def new_function(args, kwargs):\\n        result = func(args, kwargs)\\n        print('加起來的結果:',result)\\n        return args * kwargs\\n    return new_function\", \"def change_local():\\n    a = 'dog'\\n    print('最高等級:',a,id(animal))\", 'change_local()', 'change_local()\\n最⾼高等級: dog 4344261464', 'change_local()', \"def change_local():\\n    a = 'dog'\\n    print('最高等級:',a,id(a))\", 'change_local()', 'animal', 'animal()', 'a', \"a ='pig'\\ndef print_global():\\n    print('全域變數',a)\", 'print_global()', \"a ='pig'\", \"def change_local():\\n    a = 'dog'\\n    print(a)\", 'change_local()', \"def change_local():\\n    a = 'dog'\\n    print('最高等級:',a,id(a))\", 'change_local()', 'a', 'id(a)', \"animal = '狗'\\ndef change_and_print_global():\\n    animal = '貓'\\n    print('動物:',animal)\", 'animal', 'change_and_print_global()', \"animal = '狗'\\ndef change_and_print_global():\\n    global animal\\n    animal = '貓'\\n    print('動物:',animal)\", 'animal', 'change_and_print_global()', 'animal', \"animal = '狗'\\ndef change_local():\\n    animal = '貓'\\n    print('區域變數:',locals())\", 'change_local()', \"print('廣域變數', globals())\", 'del animal', \"print('廣域變數', globals())\"], 'Out': {5: [101, 102, 103], 10: 8, 12: 8, 15: 64, 17: 64, 35: 'pig', 36: 99918208, 38: '狗', 41: '狗', 43: '貓'}, 'get_ipython': <bound method InteractiveShell.get_ipython of <ipykernel.zmqshell.ZMQInteractiveShell object at 0x0716C870>>, 'exit': <IPython.core.autocall.ZMQExitAutocall object at 0x0812A110>, 'quit': <IPython.core.autocall.ZMQExitAutocall object at 0x0812A110>, '_': '貓', '__': '狗', '___': '狗', '_i': 'del animal', '_ii': \"print('廣域變數', globals())\", '_iii': 'change_local()', '_i1': 'num = list(map(int, input().split()))', '_i2': 'num = list(map(int, input().split()))', '_i3': 'num = list(map(int, input().split()))', '_i4': 'num = list(map(int, input().split()))', 'num': [1, 2, 3], '_i5': 'list(map(lambda i: i+100, num))', '_5': [101, 102, 103], '_i6': 'def edit_story(words, func):\\n    print(func(words))\\n\\nA= input(\"輸入數字\")\\nedit_story(A, lambda words:\\nA + \\'100\\')', 'edit_story': <function edit_story at 0x0326D540>, 'A': '88', '_i7': 'list(map(lambda x : x+100 , input()))', '_i8': \"def document_it(func):\\n    def new_function(*args,**kwargs):\\n        print('執⾏函式',func.__name__)\\n        print('參數位置',args)\\n        print('關鍵字參數',kwargs)\\n        result = func(*args, **kwargs)\\n        print('結果:',result)\\n        return result\\n    return new_function\", 'document_it': <function document_it at 0x0326DAE0>, '_i9': 'def add_ints(a, b):\\n    return a+b', 'add_ints': <function square_it.<locals>.new_function at 0x0326DED0>, '_i10': 'add_ints(3,5)', '_10': 8, '_i11': '@document_it\\ndef add_ints(a, b):\\n    return a+b', '_i12': 'add_ints(3,5)', '_12': 8, '_i13': \"def square_it(func):\\n    def new_function(*args, **kwargs):\\n        result = func(*args, **kwargs)\\n        print('New結果:',result)\\n        return result * result\\n    return new_function\", 'square_it': <function square_it at 0x0326DD20>, '_i14': '@document_it\\n@square_it\\ndef add_ints(a, b):\\n    return a+b', '_i15': 'add_ints(3,5)', '_15': 64, '_i16': '@square_it\\ndef add_ints(a, b):\\n    return a+b', '_i17': 'add_ints(3,5)', '_17': 64, '_i18': \"def multi_int(func):\\n    def new_function(args, kwargs):\\n        result = func(args, kwargs)\\n        print('加起來的結果:',result)\\n        return args * kwargs\\n    return new_function\", 'multi_int': <function multi_int at 0x032D81E0>, '_i19': \"def change_local():\\n    a = 'dog'\\n    print('最高等級:',a,id(animal))\", 'change_local': <function change_local at 0x032D8660>, '_i20': 'change_local()', '_i21': 'change_local()\\n最⾼高等級: dog 4344261464', '_i22': 'change_local()', '_i23': \"def change_local():\\n    a = 'dog'\\n    print('最高等級:',a,id(a))\", '_i24': 'change_local()', '_i25': 'animal', '_i26': 'animal()', '_i27': 'a', '_i28': \"a ='pig'\\ndef print_global():\\n    print('全域變數',a)\", 'a': 'pig', 'print_global': <function print_global at 0x0326DB28>, '_i29': 'print_global()', '_i30': \"a ='pig'\", '_i31': \"def change_local():\\n    a = 'dog'\\n    print(a)\", '_i32': 'change_local()', '_i33': \"def change_local():\\n    a = 'dog'\\n    print('最高等級:',a,id(a))\", '_i34': 'change_local()', '_i35': 'a', '_35': 'pig', '_i36': 'id(a)', '_36': 99918208, '_i37': \"animal = '狗'\\ndef change_and_print_global():\\n    animal = '貓'\\n    print('動物:',animal)\", 'change_and_print_global': <function change_and_print_global at 0x032D82B8>, '_i38': 'animal', '_38': '狗', '_i39': 'change_and_print_global()', '_i40': \"animal = '狗'\\ndef change_and_print_global():\\n    global animal\\n    animal = '貓'\\n    print('動物:',animal)\", '_i41': 'animal', '_41': '狗', '_i42': 'change_and_print_global()', '_i43': 'animal', '_43': '貓', '_i44': \"animal = '狗'\\ndef change_local():\\n    animal = '貓'\\n    print('區域變數:',locals())\", '_i45': 'change_local()', '_i46': \"print('廣域變數', globals())\", '_i47': 'del animal', '_i48': \"print('廣域變數', globals())\"}\n"
     ]
    }
   ],
   "source": [
    "print('廣域變數', globals())"
   ]
  },
  {
   "cell_type": "code",
   "execution_count": 51,
   "metadata": {},
   "outputs": [
    {
     "ename": "IndexError",
     "evalue": "list index out of range",
     "output_type": "error",
     "traceback": [
      "\u001b[1;31m---------------------------------------------------------------------------\u001b[0m",
      "\u001b[1;31mIndexError\u001b[0m                                Traceback (most recent call last)",
      "\u001b[1;32m<ipython-input-51-126919331893>\u001b[0m in \u001b[0;36m<module>\u001b[1;34m()\u001b[0m\n\u001b[0;32m      1\u001b[0m \u001b[0mAvengers\u001b[0m \u001b[1;33m=\u001b[0m \u001b[1;33m[\u001b[0m\u001b[1;34m'鋼鐵⼈人'\u001b[0m\u001b[1;33m,\u001b[0m\u001b[1;34m'浩克'\u001b[0m\u001b[1;33m,\u001b[0m\u001b[1;34m'美國隊長'\u001b[0m\u001b[1;33m]\u001b[0m\u001b[1;33m\u001b[0m\u001b[0m\n\u001b[0;32m      2\u001b[0m \u001b[0mposition\u001b[0m \u001b[1;33m=\u001b[0m \u001b[1;36m5\u001b[0m\u001b[1;33m\u001b[0m\u001b[0m\n\u001b[1;32m----> 3\u001b[1;33m \u001b[0mAvengers\u001b[0m\u001b[1;33m[\u001b[0m\u001b[0mposition\u001b[0m\u001b[1;33m]\u001b[0m\u001b[1;33m\u001b[0m\u001b[0m\n\u001b[0m",
      "\u001b[1;31mIndexError\u001b[0m: list index out of range"
     ]
    }
   ],
   "source": [
    "Avengers = ['鋼鐵⼈人','浩克','美國隊長']\n",
    "position = 5\n",
    "Avengers[position]"
   ]
  },
  {
   "cell_type": "code",
   "execution_count": 55,
   "metadata": {},
   "outputs": [
    {
     "name": "stdout",
     "output_type": "stream",
     "text": [
      "數字超過了拉，你輸入 5 ，請重新輸入(0~2)\n"
     ]
    }
   ],
   "source": [
    "Avengers = ['鋼鐵⼈人','浩克','美國隊長']\n",
    "position = 5\n",
    "try:\n",
    "    Avengers[position]\n",
    "except:\n",
    "    print(\"數字超過了拉，你輸入\",position,'，請重新輸入(0~2)')"
   ]
  },
  {
   "cell_type": "code",
   "execution_count": 64,
   "metadata": {},
   "outputs": [],
   "source": [
    "def f():\n",
    "    try:\n",
    "        raise Exception\n",
    "    except:\n",
    "        print ('return True')\n",
    "        return True\n",
    "    else:\n",
    "        print ('return True')\n",
    "        return True\n",
    "    finally:\n",
    "        print ('return False')\n",
    "        return False"
   ]
  },
  {
   "cell_type": "code",
   "execution_count": 65,
   "metadata": {},
   "outputs": [],
   "source": [
    "def main():\n",
    "    re = f()\n",
    "    print (re)\n",
    "    print (type(re))"
   ]
  },
  {
   "cell_type": "code",
   "execution_count": 66,
   "metadata": {},
   "outputs": [
    {
     "name": "stdout",
     "output_type": "stream",
     "text": [
      "return True\n",
      "return False\n",
      "False\n",
      "<class 'bool'>\n"
     ]
    }
   ],
   "source": [
    "if __name__ == '__main__':\n",
    "    main()"
   ]
  },
  {
   "cell_type": "code",
   "execution_count": 1,
   "metadata": {},
   "outputs": [],
   "source": [
    "def edit_story(words, func):\n",
    "    for word in words:\n",
    "        print(func(word))"
   ]
  },
  {
   "cell_type": "code",
   "execution_count": 2,
   "metadata": {},
   "outputs": [],
   "source": [
    "A = ['hello','hi','hey','oops']"
   ]
  },
  {
   "cell_type": "code",
   "execution_count": 3,
   "metadata": {},
   "outputs": [],
   "source": [
    "def cap(word):\n",
    "    return word.capitalize() + '!'"
   ]
  },
  {
   "cell_type": "code",
   "execution_count": 4,
   "metadata": {},
   "outputs": [
    {
     "name": "stdout",
     "output_type": "stream",
     "text": [
      "Hello!\n",
      "Hi!\n",
      "Hey!\n",
      "Oops!\n"
     ]
    }
   ],
   "source": [
    "edit_story(A,cap)"
   ]
  },
  {
   "cell_type": "code",
   "execution_count": 5,
   "metadata": {},
   "outputs": [],
   "source": [
    "def edit_story(words, func):\n",
    "    for word in words:\n",
    "        print(func(word))"
   ]
  },
  {
   "cell_type": "code",
   "execution_count": 6,
   "metadata": {},
   "outputs": [],
   "source": [
    "A = ['hello','hi','hey','oops']"
   ]
  },
  {
   "cell_type": "code",
   "execution_count": 7,
   "metadata": {},
   "outputs": [
    {
     "name": "stdout",
     "output_type": "stream",
     "text": [
      "Hello!\n",
      "Hi!\n",
      "Hey!\n",
      "Oops!\n"
     ]
    }
   ],
   "source": [
    "edit_story(A,lambda word:word.capitalize() + '!')"
   ]
  },
  {
   "cell_type": "code",
   "execution_count": 8,
   "metadata": {},
   "outputs": [],
   "source": [
    "def square(x):\n",
    "    return x**2"
   ]
  },
  {
   "cell_type": "code",
   "execution_count": 10,
   "metadata": {},
   "outputs": [
    {
     "data": {
      "text/plain": [
       "[1, 4, 9, 16, 25]"
      ]
     },
     "execution_count": 10,
     "metadata": {},
     "output_type": "execute_result"
    }
   ],
   "source": [
    "list(map(square,[1,2,3,4,5]))"
   ]
  },
  {
   "cell_type": "code",
   "execution_count": 11,
   "metadata": {},
   "outputs": [
    {
     "data": {
      "text/plain": [
       "[1, 4, 9, 16, 25]"
      ]
     },
     "execution_count": 11,
     "metadata": {},
     "output_type": "execute_result"
    }
   ],
   "source": [
    "list(map(lambda x:x**2,[1,2,3,4,5]))"
   ]
  },
  {
   "cell_type": "code",
   "execution_count": 12,
   "metadata": {},
   "outputs": [
    {
     "data": {
      "text/plain": [
       "[3, 7, 11, 15, 19]"
      ]
     },
     "execution_count": 12,
     "metadata": {},
     "output_type": "execute_result"
    }
   ],
   "source": [
    "list(map(lambda x,y:x+y,[1,3,5,7,9],[2,4,6,8,10]))"
   ]
  },
  {
   "cell_type": "code",
   "execution_count": 8,
   "metadata": {},
   "outputs": [],
   "source": [
    "def document_it(func):\n",
    "    def new_function(*args,**kwargs):\n",
    "        print('執⾏函式',func.__name__)\n",
    "        print('參數位置',args)\n",
    "        print('關鍵字參數',kwargs)\n",
    "        result = func(*args, **kwargs)\n",
    "        print('結果:',result)\n",
    "        return result\n",
    "    return new_function"
   ]
  },
  {
   "cell_type": "code",
   "execution_count": 9,
   "metadata": {},
   "outputs": [],
   "source": [
    "def add_ints(a, b):\n",
    "    return a+b"
   ]
  },
  {
   "cell_type": "code",
   "execution_count": 10,
   "metadata": {},
   "outputs": [
    {
     "data": {
      "text/plain": [
       "8"
      ]
     },
     "execution_count": 10,
     "metadata": {},
     "output_type": "execute_result"
    }
   ],
   "source": [
    "add_ints(3,5)"
   ]
  },
  {
   "cell_type": "code",
   "execution_count": 11,
   "metadata": {},
   "outputs": [],
   "source": [
    "@document_it\n",
    "def add_ints(a, b):\n",
    "    return a+b"
   ]
  },
  {
   "cell_type": "code",
   "execution_count": 12,
   "metadata": {},
   "outputs": [
    {
     "name": "stdout",
     "output_type": "stream",
     "text": [
      "執⾏函式 add_ints\n",
      "參數位置 (3, 5)\n",
      "關鍵字參數 {}\n",
      "結果: 8\n"
     ]
    },
    {
     "data": {
      "text/plain": [
       "8"
      ]
     },
     "execution_count": 12,
     "metadata": {},
     "output_type": "execute_result"
    }
   ],
   "source": [
    "add_ints(3,5)"
   ]
  },
  {
   "cell_type": "code",
   "execution_count": 13,
   "metadata": {},
   "outputs": [],
   "source": [
    "def square_it(func):\n",
    "    def new_function(*args, **kwargs):\n",
    "        result = func(*args, **kwargs)\n",
    "        print('New結果:',result)\n",
    "        return result * result\n",
    "    return new_function"
   ]
  },
  {
   "cell_type": "code",
   "execution_count": 14,
   "metadata": {},
   "outputs": [],
   "source": [
    "@document_it\n",
    "@square_it\n",
    "def add_ints(a, b):\n",
    "    return a+b"
   ]
  },
  {
   "cell_type": "code",
   "execution_count": 15,
   "metadata": {},
   "outputs": [
    {
     "name": "stdout",
     "output_type": "stream",
     "text": [
      "執⾏函式 new_function\n",
      "參數位置 (3, 5)\n",
      "關鍵字參數 {}\n",
      "New結果: 8\n",
      "結果: 64\n"
     ]
    },
    {
     "data": {
      "text/plain": [
       "64"
      ]
     },
     "execution_count": 15,
     "metadata": {},
     "output_type": "execute_result"
    }
   ],
   "source": [
    "add_ints(3,5)"
   ]
  },
  {
   "cell_type": "code",
   "execution_count": 16,
   "metadata": {},
   "outputs": [],
   "source": [
    "@square_it\n",
    "def add_ints(a, b):\n",
    "    return a+b"
   ]
  },
  {
   "cell_type": "code",
   "execution_count": 17,
   "metadata": {},
   "outputs": [
    {
     "name": "stdout",
     "output_type": "stream",
     "text": [
      "New結果: 8\n"
     ]
    },
    {
     "data": {
      "text/plain": [
       "64"
      ]
     },
     "execution_count": 17,
     "metadata": {},
     "output_type": "execute_result"
    }
   ],
   "source": [
    "add_ints(3,5)"
   ]
  },
  {
   "cell_type": "code",
   "execution_count": 1,
   "metadata": {},
   "outputs": [],
   "source": [
    "def f():\n",
    "    try:\n",
    "        raise Exception\n",
    "    except:\n",
    "        print ('return True')\n",
    "        return True\n",
    "    else:\n",
    "        print ('return True')\n",
    "        return True\n",
    "    finally:\n",
    "        print ('return False')\n",
    "        return False"
   ]
  },
  {
   "cell_type": "code",
   "execution_count": 2,
   "metadata": {},
   "outputs": [
    {
     "name": "stdout",
     "output_type": "stream",
     "text": [
      "return True\n",
      "return False\n"
     ]
    },
    {
     "data": {
      "text/plain": [
       "False"
      ]
     },
     "execution_count": 2,
     "metadata": {},
     "output_type": "execute_result"
    }
   ],
   "source": [
    "f()"
   ]
  },
  {
   "cell_type": "code",
   "execution_count": null,
   "metadata": {},
   "outputs": [],
   "source": []
  }
 ],
 "metadata": {
  "kernelspec": {
   "display_name": "Python 3",
   "language": "python",
   "name": "python3"
  },
  "language_info": {
   "codemirror_mode": {
    "name": "ipython",
    "version": 3
   },
   "file_extension": ".py",
   "mimetype": "text/x-python",
   "name": "python",
   "nbconvert_exporter": "python",
   "pygments_lexer": "ipython3",
   "version": "3.6.4"
  }
 },
 "nbformat": 4,
 "nbformat_minor": 2
}
